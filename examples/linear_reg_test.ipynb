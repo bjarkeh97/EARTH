{
 "cells": [
  {
   "cell_type": "code",
   "execution_count": 14,
   "metadata": {},
   "outputs": [],
   "source": [
    "import numpy as np\n",
    "import os, sys\n",
    "\n",
    "sys.path.append(os.path.abspath(\"..\"))\n",
    "\n",
    "from earth._basis_function_fast import BasisMatrix\n",
    "from src.earth.earth_slow import EARTH\n",
    "from src.earth.earth import EARTH as EARTH_fast"
   ]
  },
  {
   "cell_type": "code",
   "execution_count": 15,
   "metadata": {},
   "outputs": [
    {
     "data": {
      "text/plain": [
       "array([[5],\n",
       "       [4],\n",
       "       [3],\n",
       "       [3],\n",
       "       [1],\n",
       "       [1]])"
      ]
     },
     "execution_count": 15,
     "metadata": {},
     "output_type": "execute_result"
    }
   ],
   "source": [
    "X = np.arange(6)[::-1].reshape((-1, 1))\n",
    "X = np.reshape([5,4,3,3,1,1], (-1, 1))\n",
    "X"
   ]
  },
  {
   "cell_type": "code",
   "execution_count": 16,
   "metadata": {},
   "outputs": [
    {
     "data": {
      "text/plain": [
       "array([-1,  1,  3,  6,  8, 10])"
      ]
     },
     "execution_count": 16,
     "metadata": {},
     "output_type": "execute_result"
    }
   ],
   "source": [
    "y = np.arange(6) * 2 - 1 + (np.arange(6) > 2).astype(int)\n",
    "y"
   ]
  },
  {
   "cell_type": "code",
   "execution_count": 17,
   "metadata": {},
   "outputs": [
    {
     "data": {
      "text/plain": [
       "array([25, 20, 15, 15,  5,  5])"
      ]
     },
     "execution_count": 17,
     "metadata": {},
     "output_type": "execute_result"
    }
   ],
   "source": [
    "y = (\n",
    "    2 * X[:, 0] + 3 * X[:, 0]\n",
    ")  # Linear combination with noise\n",
    "y"
   ]
  },
  {
   "cell_type": "code",
   "execution_count": 37,
   "metadata": {},
   "outputs": [
    {
     "data": {
      "text/plain": [
       "array([25., 20., 15., 15.,  5.,  5.])"
      ]
     },
     "execution_count": 37,
     "metadata": {},
     "output_type": "execute_result"
    }
   ],
   "source": [
    "ea = EARTH(M_max=1)\n",
    "ea.fit(X,y)\n",
    "ea.predict(X)"
   ]
  },
  {
   "cell_type": "code",
   "execution_count": 39,
   "metadata": {},
   "outputs": [
    {
     "data": {
      "text/plain": [
       "array([5., 0., 5.])"
      ]
     },
     "execution_count": 39,
     "metadata": {},
     "output_type": "execute_result"
    }
   ],
   "source": [
    "ea.coeffs"
   ]
  },
  {
   "cell_type": "code",
   "execution_count": 38,
   "metadata": {},
   "outputs": [
    {
     "data": {
      "text/plain": [
       "[(-1, 0, np.int64(1))]"
      ]
     },
     "execution_count": 38,
     "metadata": {},
     "output_type": "execute_result"
    }
   ],
   "source": [
    "ea.basis[1].svt"
   ]
  },
  {
   "cell_type": "code",
   "execution_count": 19,
   "metadata": {},
   "outputs": [
    {
     "name": "stdout",
     "output_type": "stream",
     "text": [
      "going fast\n",
      "No improvement in LOF after 5 terms\n"
     ]
    },
    {
     "data": {
      "text/plain": [
       "array([11.31578947,  9.05263158,  6.78947368,  6.78947368,  7.73684211,\n",
       "        7.73684211])"
      ]
     },
     "execution_count": 19,
     "metadata": {},
     "output_type": "execute_result"
    }
   ],
   "source": [
    "ea = EARTH_fast(M_max=6)\n",
    "ea.fit(X,y)\n",
    "ea.predict(X)"
   ]
  },
  {
   "cell_type": "code",
   "execution_count": 20,
   "metadata": {},
   "outputs": [
    {
     "data": {
      "text/plain": [
       "array([[1., 5., 0.],\n",
       "       [1., 4., 0.],\n",
       "       [1., 3., 0.],\n",
       "       [1., 3., 0.],\n",
       "       [1., 1., 0.],\n",
       "       [1., 1., 0.]])"
      ]
     },
     "execution_count": 20,
     "metadata": {},
     "output_type": "execute_result"
    }
   ],
   "source": [
    "# Knot not a end\n",
    "ts = X[0:,0]\n",
    "bm = BasisMatrix(X)\n",
    "bm.add_split_end(0, 0, 5)\n",
    "B = bm.bx\n",
    "B"
   ]
  },
  {
   "cell_type": "code",
   "execution_count": 21,
   "metadata": {},
   "outputs": [
    {
     "data": {
      "text/plain": [
       "array([[1., 1., 1., 1., 1., 1.],\n",
       "       [5., 4., 3., 3., 1., 1.],\n",
       "       [0., 0., 0., 0., 0., 0.]])"
      ]
     },
     "execution_count": 21,
     "metadata": {},
     "output_type": "execute_result"
    }
   ],
   "source": [
    "B.transpose()"
   ]
  },
  {
   "cell_type": "code",
   "execution_count": 22,
   "metadata": {},
   "outputs": [
    {
     "data": {
      "text/plain": [
       "array([ 85., 305.,   0.])"
      ]
     },
     "execution_count": 22,
     "metadata": {},
     "output_type": "execute_result"
    }
   ],
   "source": [
    "B.transpose() @ y"
   ]
  },
  {
   "cell_type": "code",
   "execution_count": 41,
   "metadata": {},
   "outputs": [
    {
     "name": "stdout",
     "output_type": "stream",
     "text": [
      "5\n",
      "[2.0476084e-15 5.0000000e+00 0.0000000e+00] []\n",
      "[25. 20. 15. 15.  5.  5.]\n",
      "4\n",
      "[5.36569686e-15 5.00000000e+00 5.27355937e-15] [6.99338614e-30]\n",
      "[25. 20. 15. 15.  5.  5.]\n",
      "3\n",
      "[1.18466502e-14 5.00000000e+00 4.77395901e-15] [1.50740173e-32]\n",
      "[25. 20. 15. 15.  5.  5.]\n",
      "3\n",
      "[1.18466502e-14 5.00000000e+00 4.77395901e-15] [1.50740173e-32]\n",
      "[25. 20. 15. 15.  5.  5.]\n",
      "1\n",
      "[1.66666667 3.33333333 1.66666667] []\n",
      "[25. 20. 15. 15.  5.  5.]\n",
      "1\n",
      "[1.66666667 3.33333333 1.66666667] []\n",
      "[25. 20. 15. 15.  5.  5.]\n"
     ]
    }
   ],
   "source": [
    "for t in ts:\n",
    "    print(t)\n",
    "    bm = BasisMatrix(X)\n",
    "    bm.add_split_end(0, 0, t)\n",
    "    Bi = bm.bx\n",
    "    coeffs, ssr, _, _ = np.linalg.lstsq(Bi, y, rcond=None)\n",
    "    print(coeffs, ssr)\n",
    "    print(Bi@coeffs)"
   ]
  },
  {
   "cell_type": "code",
   "execution_count": 24,
   "metadata": {},
   "outputs": [
    {
     "name": "stdout",
     "output_type": "stream",
     "text": [
      "5\n",
      "[ 85. 305.   0.]\n",
      "4\n",
      "[ 85. 305.  25.]\n",
      "3\n",
      "[ 85. 305.  70.]\n",
      "3\n",
      "[ 85. 305.  70.]\n",
      "1\n",
      "[ 85. 305. 220.]\n",
      "1\n",
      "[ 85. 305. 220.]\n"
     ]
    }
   ],
   "source": [
    "for t in ts:\n",
    "    print(t)\n",
    "    bm = BasisMatrix(X)\n",
    "    bm.add_split_end(0, 0, t)\n",
    "    Bi = bm.bx\n",
    "    ci = Bi.transpose() @ y\n",
    "    print(ci)"
   ]
  },
  {
   "cell_type": "code",
   "execution_count": 26,
   "metadata": {},
   "outputs": [
    {
     "name": "stdout",
     "output_type": "stream",
     "text": [
      "5\n",
      "[[ 6. 17.  0.]\n",
      " [17. 61.  0.]\n",
      " [ 0.  0.  0.]]\n",
      "4\n",
      "[[ 6. 17.  1.]\n",
      " [17. 61.  5.]\n",
      " [ 1.  5.  1.]]\n",
      "3\n",
      "[[ 6. 17.  3.]\n",
      " [17. 61. 14.]\n",
      " [ 3. 14.  5.]]\n",
      "3\n",
      "[[ 6. 17.  3.]\n",
      " [17. 61. 14.]\n",
      " [ 3. 14.  5.]]\n",
      "1\n",
      "[[ 6. 17. 11.]\n",
      " [17. 61. 44.]\n",
      " [11. 44. 33.]]\n",
      "1\n",
      "[[ 6. 17. 11.]\n",
      " [17. 61. 44.]\n",
      " [11. 44. 33.]]\n"
     ]
    }
   ],
   "source": [
    "for t in ts:\n",
    "    print(t)\n",
    "    bm = BasisMatrix(X)\n",
    "    bm.add_split_end(0, 0, t)\n",
    "    Bi = bm.bx\n",
    "    vi = Bi.transpose() @ Bi\n",
    "    print(vi)"
   ]
  },
  {
   "cell_type": "code",
   "execution_count": 11,
   "metadata": {},
   "outputs": [],
   "source": [
    "# Normal equations\n",
    "V = B.transpose() @ B\n",
    "c = B.transpose() @ y\n",
    "# np.linalg.inv(V) @ c"
   ]
  },
  {
   "cell_type": "code",
   "execution_count": 12,
   "metadata": {},
   "outputs": [
    {
     "name": "stdout",
     "output_type": "stream",
     "text": [
      "not lowest 3\n",
      "not lowest 1\n"
     ]
    },
    {
     "data": {
      "text/plain": [
       "[np.float64(0.0),\n",
       " np.float64(-1.0),\n",
       " np.float64(-1.0),\n",
       " np.float64(-1.0),\n",
       " np.float64(17.0),\n",
       " np.float64(17.0)]"
      ]
     },
     "execution_count": 12,
     "metadata": {},
     "output_type": "execute_result"
    }
   ],
   "source": [
    "def get_c_and_all_cns(X: np.ndarray, B: np.ndarray, y: np.ndarray, m: int) -> list:\n",
    "    xv = X[:, m]\n",
    "    bm = B[:, m]\n",
    "    c = B.transpose() @ y\n",
    "    lowest = xv[0]\n",
    "    queue1 = 0\n",
    "    queue2 = 0\n",
    "    ts = xv[1:]\n",
    "    a1 = 0\n",
    "    a2 = 0\n",
    "    cns = [c[-1]]\n",
    "    for i, t in enumerate(xv):\n",
    "        if i == 0:\n",
    "            continue\n",
    "        # print(t)\n",
    "        k = i - 1\n",
    "        if t < lowest:\n",
    "            lowest = t         \n",
    "            a1 += bm[k] * xv[k] * y[k] + queue1\n",
    "            a2 += bm[k] * y[k] + queue2\n",
    "            cns.append(cns[0] + a1 - a2 * t)\n",
    "            queue1 = queue2 = 0\n",
    "            # print(cns[-1])\n",
    "        else:\n",
    "            print(\"not lowest\", t)\n",
    "            queue1 += bm[k] * xv[k] * y[k]\n",
    "            queue2 += bm[k] * y[k]\n",
    "            cns.append(cns[-1])\n",
    "            # print(cns[-1])\n",
    "    return c, cns\n",
    "\n",
    "\n",
    "c, cns = get_c_and_all_cns(X, B, y, 0)\n",
    "cns"
   ]
  },
  {
   "cell_type": "code",
   "execution_count": 13,
   "metadata": {},
   "outputs": [
    {
     "data": {
      "text/plain": [
       "array([27., 44., 17.])"
      ]
     },
     "execution_count": 13,
     "metadata": {},
     "output_type": "execute_result"
    }
   ],
   "source": [
    "def update_c(c, u: int, t: int, xv, y, m, B) -> None:\n",
    "    \"\"\"\n",
    "    Update c\n",
    "    \"\"\"\n",
    "    mask_1 = (xv >= t) & (xv < u)\n",
    "    mask_2 = xv >= u\n",
    "    c[-1] = (\n",
    "        c[-1]\n",
    "        + np.sum(y[mask_1] * B[mask_1, m] * (xv[mask_1] - t))\n",
    "        + (u - t) * np.sum(y[mask_2] * B[mask_2, m])\n",
    "    )\n",
    "    return c\n",
    "\n",
    "\n",
    "update_c(c.copy(), u=5, t=1, xv=X[:, 0], y=y, m=0, B=B)"
   ]
  },
  {
   "cell_type": "code",
   "execution_count": 14,
   "metadata": {},
   "outputs": [
    {
     "data": {
      "text/plain": [
       "array([0., 0., 0.])"
      ]
     },
     "execution_count": 14,
     "metadata": {},
     "output_type": "execute_result"
    }
   ],
   "source": [
    "V[:,2]"
   ]
  },
  {
   "cell_type": "code",
   "execution_count": 26,
   "metadata": {},
   "outputs": [
    {
     "name": "stdout",
     "output_type": "stream",
     "text": [
      "1 4\n",
      "2 3\n",
      "3 3\n",
      "4 1\n",
      "5 1\n"
     ]
    },
    {
     "data": {
      "text/plain": [
       "[np.float64(0.0),\n",
       " np.float64(5.0),\n",
       " np.float64(14.0),\n",
       " np.float64(14.0),\n",
       " np.float64(44.0),\n",
       " np.float64(44.0)]"
      ]
     },
     "execution_count": 26,
     "metadata": {},
     "output_type": "execute_result"
    }
   ],
   "source": [
    "def get_V_and_all_VNNs(X: np.ndarray, B: np.ndarray, m: int, i: int) -> list:\n",
    "    V = B.transpose() @ B\n",
    "    xv = X[:, m]\n",
    "    M = B.shape[1]\n",
    "    bm = B[:, m]\n",
    "    bi = B[:, i]\n",
    "    lowest = xv[0]\n",
    "    queue1: float = 0\n",
    "    queue2: float = 0\n",
    "    ts = xv\n",
    "    a2 = 0\n",
    "    a1 = 0\n",
    "    vis = [V[i,-1]]\n",
    "    for i, t in enumerate(ts):\n",
    "        if i == 0:\n",
    "            continue\n",
    "        print(i,t)\n",
    "        j = i - 1\n",
    "        if t < lowest:\n",
    "            a2 += bm[j] * bi[j] + queue2\n",
    "            a1 += bm[j] * bi[j] * xv[j] + queue1\n",
    "            vis.append(vis[0] + a1 - a2 * t)\n",
    "        else:\n",
    "            # print(\"not lowest\")\n",
    "            queue1 += bm[j] * bi[j] * xv[j]\n",
    "            queue2 += bm[j] * bi[j]\n",
    "            vis.append(vis[-1])\n",
    "        lowest = t\n",
    "    return V, vis\n",
    "\n",
    "V, vis = get_V_and_all_VNNs(X, B, 0, 1)\n",
    "vis"
   ]
  },
  {
   "cell_type": "code",
   "execution_count": 26,
   "metadata": {},
   "outputs": [
    {
     "data": {
      "text/plain": [
       "array([[ 6., 17., 11.],\n",
       "       [17., 61., 44.],\n",
       "       [11., 44., 33.]])"
      ]
     },
     "execution_count": 26,
     "metadata": {},
     "output_type": "execute_result"
    }
   ],
   "source": [
    "def update_V(u, t, m, xv, B, V):\n",
    "    \"\"\"\n",
    "    Update covariance matrix\n",
    "    \"\"\"\n",
    "    mask_t = xv >= t\n",
    "    mask_u = xv >= u\n",
    "    mask_1 = mask_t & (xv < u)\n",
    "    for i in range(V.shape[0] - 1):\n",
    "        V[i, -1] = (\n",
    "            V[i, -1]\n",
    "            + np.sum((B[mask_1, i]) * B[mask_1, m] * (xv[mask_1] - t))\n",
    "            + (u - t) * np.sum((B[mask_u, i]) * B[mask_u, m])\n",
    "        )\n",
    "        V[-1, i] = V[i, -1]\n",
    "    adder = (\n",
    "        np.sum((B[mask_1, m] ** 2) * ((xv[mask_1] - t) ** 2))\n",
    "        +np.sum((B[mask_u, m] ** 2) * (t**2 - u**2))\n",
    "        +2 * (u - t) * np.sum((B[mask_u, m] ** 2)*xv[mask_u])\n",
    "    )\n",
    "    V[-1, -1] = V[-1, -1] + adder\n",
    "    return V\n",
    "\n",
    "\n",
    "update_V(u=5, t=1, m=0, xv=X[:, 0], B=B, V=V.copy())"
   ]
  }
 ],
 "metadata": {
  "kernelspec": {
   "display_name": ".venv",
   "language": "python",
   "name": "python3"
  },
  "language_info": {
   "codemirror_mode": {
    "name": "ipython",
    "version": 3
   },
   "file_extension": ".py",
   "mimetype": "text/x-python",
   "name": "python",
   "nbconvert_exporter": "python",
   "pygments_lexer": "ipython3",
   "version": "3.11.4"
  }
 },
 "nbformat": 4,
 "nbformat_minor": 2
}
